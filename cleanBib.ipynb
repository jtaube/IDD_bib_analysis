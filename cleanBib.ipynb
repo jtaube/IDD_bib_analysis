{
 "cells": [
  {
   "cell_type": "markdown",
   "metadata": {
    "kernel": "SoS"
   },
   "source": [
    "# Clean Bibliography\n",
    "\n",
    "To goal of this notebook is to clean your `.bib` file to ensure that it only contains the full first names of references that you have cited in your paper. The full first names will then be used to query the probabilistic gender classifier, [Gender API](https://gender-api.com) if over 100 names or [genderize.io](https://genderize.io) if under 100 names. The full names will be used to query for probabilistic race using the [ethnicolr package](https://ethnicolr.readthedocs.io/).\n",
    "\n",
    "The only required file you need is your manuscript's bibliography in `.bib` format. __Your `.bib` must only contain references cited in the manuscript__. Otherwise, the estimated proportions will be inaccurate.\n",
    "\n",
    "If you intend to analyze the reference list of a published paper instead of your own manuscript in progress, search the paper on [Web of Knowledge](http://apps.webofknowledge.com/) (you will need institutional access). Next, [download the .bib file from Web of Science following these instructions, but start from Step 4 and on Step 6 select BibTeX instead of Plain Text](https://github.com/jdwor/gendercitation/blob/master/Step0_PullingWOSdata.pdf).\n",
    "\n",
    "If you are not using LaTeX, collect and organize only the references you have cited in your manuscript using your reference manager of choice (e.g. Mendeley, Zotero, EndNote, ReadCube, etc.) and export that selected bibliography as a `.bib` file. __Please try to export your .bib in an output style that uses full first names (rather than only first initials) and using the full author lists (rather than abbreviated author lists with \"et al.\").__ If first initials are included, our code will automatically retrieve about 70% of those names using the article title or DOI. \n",
    "\n",
    "   * [Export `.bib` from Mendeley](https://blog.mendeley.com/2011/10/25/howto-use-mendeley-to-create-citations-using-latex-and-bibtex/)\n",
    "   * [Export `.bib` from Zotero](https://libguides.mit.edu/ld.php?content_id=34248570)\n",
    "   * [Export `.bib` from EndNote](https://www.reed.edu/cis/help/LaTeX/EndNote.html). Note: Please export full first names by either [choosing an output style that does so by default (e.g. in MLA style)](https://canterbury.libguides.com/endnote/basics-output) or by [customizing an output style.](http://bibliotek.usn.no/cite-and-write/endnote/how-to-use/how-to-show-the-author-s-full-name-in-the-reference-list-article185897-28181.html)\n",
    "   * [Export `.bib` from Read Cube Papers](https://support.papersapp.com/support/solutions/articles/30000024634-how-can-i-export-references-from-readcube-papers-)\n",
    "\n",
    "For those working in LaTeX, we can use an optional `.aux` file to automatically filter your `.bib` to check that it only contains entries which are cited in your manuscript.\n",
    "\n",
    "| Input                 | Output                                                                                                                        |\n",
    "|-----------------------|-------------------------------------------------------------------------------------------------------------------------------|\n",
    "| `.bib` file(s)**(REQUIRED)**    | `cleanBib.csv`: table of author first names, titles, and .bib keys                                                            |\n",
    "| `.aux` file (OPTIONAL)| `predictions.csv`: table of author first names, estimated gender classification, and confidence                                   |\n",
    "| `.tex` file (OPTIONAL) | `race_gender_citations.pdf`: heat map of your citations broken down by probabilistic gender and race estimations\n",
    "|                       | `yourTexFile_gendercolor.tex`: your `.tex` file modified to compile .pdf with in-line citations colored-coded by gender pairs |\n",
    "\n",
    "## 1. Import functions\n",
    "\n",
    "Upload your `.bib` file(s) and _optionally_ an `.aux` file generated from compiling your LaTeX manuscript and your `.tex` file\n",
    "\n",
    "![upload button](img/upload.png)\n",
    "\n",
    "![confirm upload button](img/confirmUpload.png)\n",
    "\n",
    "Then, run the code block below. (click to select the block and then press Ctrl+Enter; or click the block and press the Run button in the top menubar)"
   ]
  },
  {
   "cell_type": "code",
   "execution_count": 2,
   "metadata": {
    "kernel": "Python 3",
    "scrolled": true
   },
   "outputs": [
    {
     "name": "stderr",
     "output_type": "stream",
     "text": [
      "2024-09-04 17:55:32.722226: I external/local_tsl/tsl/cuda/cudart_stub.cc:31] Could not find cuda drivers on your machine, GPU will not be used.\n",
      "2024-09-04 17:55:33.241377: E external/local_xla/xla/stream_executor/cuda/cuda_dnn.cc:9261] Unable to register cuDNN factory: Attempting to register factory for plugin cuDNN when one has already been registered\n",
      "2024-09-04 17:55:33.241459: E external/local_xla/xla/stream_executor/cuda/cuda_fft.cc:607] Unable to register cuFFT factory: Attempting to register factory for plugin cuFFT when one has already been registered\n",
      "2024-09-04 17:55:33.336256: E external/local_xla/xla/stream_executor/cuda/cuda_blas.cc:1515] Unable to register cuBLAS factory: Attempting to register factory for plugin cuBLAS when one has already been registered\n",
      "2024-09-04 17:55:33.547148: I external/local_tsl/tsl/cuda/cudart_stub.cc:31] Could not find cuda drivers on your machine, GPU will not be used.\n",
      "2024-09-04 17:55:33.549390: I tensorflow/core/platform/cpu_feature_guard.cc:182] This TensorFlow binary is optimized to use available CPU instructions in performance-critical operations.\n",
      "To enable the following instructions: AVX2 AVX512F FMA, in other operations, rebuild TensorFlow with the appropriate compiler flags.\n",
      "2024-09-04 17:55:37.074172: W tensorflow/compiler/tf2tensorrt/utils/py_utils.cc:38] TF-TRT Warning: Could not find TensorRT\n"
     ]
    },
    {
     "name": "stdout",
     "output_type": "stream",
     "text": [
      "No optional .tex file found.\n"
     ]
    }
   ],
   "source": [
    "%load_ext autoreload # automatically reloads modules..not sure we need\n",
    "%autoreload 2\n",
    "\n",
    "import glob\n",
    "from habanero import Crossref\n",
    "import sys\n",
    "import os\n",
    "from pathlib import Path\n",
    "wd = Path(os.getcwd())\n",
    "#sys.path.insert(1, f'{wd.absolute()}/utils')\n",
    "from preprocessing import *\n",
    "from ethnicolr import pred_fl_reg_name\n",
    "os.environ[\"TF_CPP_MIN_LOG_LEVEL\"] = \"3\"\n",
    "import tensorflow as tf\n",
    "import seaborn as sns\n",
    "import matplotlib.pyplot as plt\n",
    "np.warnings.filterwarnings('ignore', category=np.VisibleDeprecationWarning)\n",
    "import warnings\n",
    "warnings.simplefilter(action='ignore', category=FutureWarning)\n",
    "\n",
    "cr = Crossref()\n",
    "homedir = '' #'/home/jovyan/'\n",
    "bib_files = glob.glob(homedir + '*.bib')\n",
    "paper_aux_file = glob.glob(homedir + '*.aux')\n",
    "paper_bib_file = 'library_paper.bib'\n",
    "try:\n",
    "    tex_file = glob.glob(homedir + \"*.tex\")[0]\n",
    "except:\n",
    "    print('No optional .tex file found.')\n",
    "if len(bib_files) == 0:\n",
    "    print(\"No .bib file found.\")"
   ]
  },
  {
   "cell_type": "code",
   "execution_count": 4,
   "metadata": {},
   "outputs": [
    {
     "name": "stdout",
     "output_type": "stream",
     "text": [
      "['final.bib']\n",
      "['contact.aux', 'supp.aux']\n"
     ]
    }
   ],
   "source": [
    "print(bib_files)\n",
    "print(paper_aux_file)"
   ]
  },
  {
   "cell_type": "markdown",
   "metadata": {
    "kernel": "SoS"
   },
   "source": [
    "### 2. Define the _first_ and _last_ author of your paper.\n",
    "\n",
    "For example: \n",
    "```\n",
    "yourFirstAuthor = 'Teich, Erin G.'\n",
    "yourLastAuthor = 'Bassett, Danielle S.'\n",
    "```\n",
    "\n",
    "And optionally, define any co-first or co-last author(s), making sure to keep the square brackets to define a list.\n",
    "\n",
    "For example:\n",
    "```\n",
    "optionalEqualContributors = ['Dworkin, Jordan', 'Stiso, Jennifer']\n",
    "```\n",
    "\n",
    "or \n",
    "\n",
    "```\n",
    "optionalEqualContributors = ['Dworkin, Jordan']\n",
    "```\n",
    "\n",
    "If you are analyzing published papers' reference lists from Web of Science, change the variable checkingPublishedArticle to True:\n",
    "```\n",
    "checkingPublishedArticle = True\n",
    "```\n",
    "\n",
    "Then, run the code block below. (click to select the block and then press Ctrl+Enter; or click the block and press the Run button in the top menubar)\n",
    "\n",
    "__NOTE__: Please edit your .bib file using information printed by the code and provided in cleanedBib.csv. Edit directly within the Binder environment by clicking the .bib file (as shown below), making modifications, and saving the file (as shown below).\n",
    "\n",
    "![open button](img/openBib.png)\n",
    "\n",
    "![save button](img/saveBib.png)\n",
    "\n",
    "Common issues include:\n",
    "\n",
    "* Bibliography entry did not include a last author because the author list was truncated by \"and Others\" or \"et al.\"\n",
    "* Some older journals articles only provide first initial and not full first names, in which case you will need to go digging via Google to identify that person.\n",
    "* In rare cases where the author cannot be identified even after searching by hand, replace the first name with \"UNKNOWNNAMES\" so that the classifier will estimate the gender as unknown.\n",
    "* Make sure groups aren't used as first or last authors"
   ]
  },
  {
   "cell_type": "code",
   "execution_count": 6,
   "metadata": {},
   "outputs": [
    {
     "name": "stdout",
     "output_type": "stream",
     "text": [
      "     _           _       _ _\n",
      " ___| |_ ___ ___| |_ ___|_| |_ ___ ___\n",
      "|  _|   | -_|  _| '_|  _| |  _| -_|_ -|\n",
      "|___|_|_|___|___|_,_|___|_|_| |___|___|\n",
      "\n",
      "checkcites.lua -- a reference checker script (v2.4)\n",
      "Copyright (c) 2012, 2019, Enrico Gregorio, Paulo Roberto Massa Cereda\n",
      "\n",
      "Great, I found 49 citations in 1 file. I also found 1 bibliography file.\n",
      "Let me check this file and extract the references. Please wait a moment.\n",
      "\n",
      "Fantastic, I found 6 references in 1 bibliography file. Please wait a\n",
      "moment while the reports are generated.\n",
      "\n",
      "--------------------------------------------------------------------------\n",
      "Report of unused references in your TeX document (that is, references\n",
      "present in bibliography files, but not cited in the TeX source file)\n",
      "--------------------------------------------------------------------------\n",
      "\n",
      "Unused references in your TeX document: 0\n",
      "\n",
      "--------------------------------------------------------------------------\n",
      "Report of undefined references in your TeX document (that is, references\n",
      "cited in the TeX source file, but not present in the bibliography files)\n",
      "--------------------------------------------------------------------------\n",
      "\n",
      "Undefined references in your TeX document: 43\n",
      "=> mossong_social_2008\n",
      "=> gostic_practical_2020\n",
      "=> lloyd-smith_superspreading_2005\n",
      "=> rohani_contact_2010\n",
      "=> mistry_inferring_2021\n",
      "=> kretzschmar_impact_2020\n",
      "=> overton_using_2020\n",
      "=> gimma_changes_2022\n",
      "=> coletti_comix_2020\n",
      "=> munday_evaluating_2023\n",
      "=> viboud_synchrony_2006\n",
      "=> favier_influence_2005\n",
      "=> susswein_ignoring_2021\n",
      "=> truelove_characterizing_2019\n",
      "=> kummer_evaluating_2022\n",
      "=> destefano_factors_2011\n",
      "=> zagheni_using_2008\n",
      "=> taube_spatiotemporal_2023\n",
      "=> tiu_characterizing_2022\n",
      "=> feehan_quantifying_2021\n",
      "=> nelson_nationally_2022\n",
      "=> klein_characterizing_2024\n",
      "=> garnier_socioeconomic_2021\n",
      "=> zang_us_2021\n",
      "=> salomon_us_2021\n",
      "=> cmmid_covid-19_working_group_quantifying_2020\n",
      "=> susswein_disentangling_2023\n",
      "=> pullano_characterizing_2024\n",
      "=> read_social_2014\n",
      "=> kiti_quantifying_2014\n",
      "=> kleynhans_cross-sectional_2021\n",
      "=> mousa_social_2021\n",
      "=> pedersen_hierarchical_2019\n",
      "=> ingram_2013_2014\n",
      "=> the_new_york_times_coronavirus_2021\n",
      "=> hale_global_2021\n",
      "=> safegraph_social_nodate\n",
      "=> meta_user_2022\n",
      "=> pasek_anesrake_2018\n",
      "=> wood_generalized_2017\n",
      "=> feehan_using_2019\n",
      "=> kiti_changing_2023\n",
      "=> google_covid-19_2021\n",
      "\n",
      "Unused citations:  43\n"
     ]
    }
   ],
   "source": [
    "yourFirstAuthor = 'LastName, FirstName OptionalMiddleInitial'\n",
    "yourLastAuthor = 'LastName, FirstName OptionalMiddleInitial'\n",
    "optionalEqualContributors = ['LastName, FirstName OptionalMiddleInitial', 'LastName, FirstName OptionalMiddleInitial']\n",
    "checkingPublishedArticle = False\n",
    "\n",
    "if paper_aux_file:\n",
    "    unused_keys = [find_unused_cites([file]) for file in paper_aux_file]\n",
    "    unused_keys = [item for sublist in unused_keys for item in sublist]\n",
    "else:\n",
    "    unused_keys = None\n"
   ]
  },
  {
   "cell_type": "markdown",
   "metadata": {},
   "source": [
    "### Remove the unused references mentioned above from your .bib file before running the following code chunk"
   ]
  },
  {
   "cell_type": "code",
   "execution_count": 8,
   "metadata": {
    "kernel": "Python 3"
   },
   "outputs": [
    {
     "name": "stdout",
     "output_type": "stream",
     "text": [
      "1: aleta_modelling_2020\n",
      "2: bansal_when_2007  <-- self-citation\n",
      "3: bharti_explaining_2011\n",
      "4: breen_novel_2022\n",
      "5: dorelien_analyzing_2021\n",
      "6: dorelien_quantifying_2023\n",
      "\n",
      "\n",
      "\n",
      " Only continue if you've run step 2, and this code no longer returns error or instructions to revise the .bib file.\n"
     ]
    }
   ],
   "source": [
    "# parses bib file\n",
    "bib_data = get_bib_data(bib_files[0])\n",
    "if checkingPublishedArticle:\n",
    "    get_names_published(homedir, bib_data, cr)\n",
    "else:\n",
    "    # find and print duplicates\n",
    "    bib_data = get_duplicates(bib_data, bib_files[0])\n",
    "    # get names, remove CDS, find self cites\n",
    "    get_names(homedir, bib_data, yourFirstAuthor, yourLastAuthor, optionalEqualContributors, cr, unused_keys)\n",
    "    \n",
    "bib_check(homedir)"
   ]
  },
  {
   "cell_type": "markdown",
   "metadata": {},
   "source": [
    "## 3. Estimate gender and race of authors from cleaned bibliography\n",
    "\n",
    "### Checkpoint for cleaned bibliography and estimating genders and race by names\n",
    "After registering for a [gender-api](https://gender-api.com/) account (free), use your 500 free monthly search credits by __pasting your API key in the code for the line indicated below__ (replace only YOUR ACCOUNT KEY HERE):\n",
    "\n",
    "```genderAPI_key = '&key=YOUR ACCOUNT KEY HERE'```\n",
    "\n",
    "[You can find your key in your account's profile page.](https://gender-api.com/en/account/overview#my-api-key)\n",
    "\n",
    "Then, run the code blocks below to estimate how many credits we will need to use. (click to select the block and then press Ctrl+Enter; or click the block and press the Run button in the top menubar) Run this even if your bibliography is small enough to use genderize.io."
   ]
  },
  {
   "cell_type": "code",
   "execution_count": 10,
   "metadata": {
    "kernel": "R"
   },
   "outputs": [
    {
     "name": "stdout",
     "output_type": "stream",
     "text": [
      "Remaining credits: 500\n",
      "This should use (at most) 9 credits, saving you approx 1 credit(s) by storing queries.\n"
     ]
    }
   ],
   "source": [
    "# moot because we are using different gender prediction software\n",
    "genderAPI_key = '&key=YOUR ACCOUNT KEY HERE'\n",
    "\n",
    "# # Check your credit balance\n",
    "check_genderAPI_balance(genderAPI_key, homedir)"
   ]
  },
  {
   "cell_type": "markdown",
   "metadata": {
    "kernel": "SoS"
   },
   "source": [
    "## 4. Describe the proportions of genders in your reference list and compare it to published base rates in infectious disease dynamics.\n",
    "\n",
    "__NOTE__: your free GenderAPI account has 500 queries per month and genderize.io has 100 free queries per day. This box contains the code that will use your limited API credits/queries if it runs without error. Re-running all code repeatedly will repeatedly use these credits.\n",
    "\n",
    "Run the code blocks below. (click to select the block and then press Ctrl+Enter; or click the block and press the Run button in the top menubar)"
   ]
  },
  {
   "cell_type": "code",
   "execution_count": 12,
   "metadata": {
    "kernel": "Python 3"
   },
   "outputs": [
    {
     "name": "stdout",
     "output_type": "stream",
     "text": [
      "first author is Juliana Taube \n",
      "last author is Shweta Bansal \n",
      "we don't count these, but check the predictions file to ensure your names did not slip through!\n",
      "looping through your references, predicting gender and race\n",
      "using genderize.io for gender inference\n"
     ]
    },
    {
     "name": "stderr",
     "output_type": "stream",
     "text": [
      "  0%|          | 0/6 [00:00<?, ?it/s]"
     ]
    },
    {
     "name": "stdout",
     "output_type": "stream",
     "text": [
      "{'race': 'poc', 'probability': 0.8947806805372238}\n",
      "{'race': 'poc', 'probability': 0.9334187060594559}\n",
      "[0.10521932, 0.8947806805372238]\n",
      "[0.066581294, 0.9334187060594559]\n"
     ]
    },
    {
     "name": "stderr",
     "output_type": "stream",
     "text": [
      " 50%|█████     | 3/6 [00:01<00:01,  2.25it/s]"
     ]
    },
    {
     "name": "stdout",
     "output_type": "stream",
     "text": [
      "{'race': 'poc', 'probability': 0.8692800849676132}\n",
      "{'race': 'nh_white', 'probability': 0.958743}\n",
      "[0.13071992, 0.8692800849676132]\n",
      "[0.958743, 0.04125702381134033]\n"
     ]
    },
    {
     "name": "stderr",
     "output_type": "stream",
     "text": [
      " 67%|██████▋   | 4/6 [00:01<00:00,  2.30it/s]"
     ]
    },
    {
     "name": "stdout",
     "output_type": "stream",
     "text": [
      "{'race': 'nh_white', 'probability': 0.9444614}\n",
      "{'race': 'nh_white', 'probability': 0.9819978}\n",
      "[0.9444614, 0.0555385947227478]\n",
      "[0.9819978, 0.018002212047576904]\n"
     ]
    },
    {
     "name": "stderr",
     "output_type": "stream",
     "text": [
      " 83%|████████▎ | 5/6 [00:02<00:00,  2.28it/s]"
     ]
    },
    {
     "name": "stdout",
     "output_type": "stream",
     "text": [
      "{'race': 'poc', 'probability': 0.8825322091579437}\n",
      "{'race': 'nh_white', 'probability': 0.75859165}\n",
      "[0.11746779, 0.8825322091579437]\n",
      "[0.75859165, 0.2414083480834961]\n"
     ]
    },
    {
     "name": "stderr",
     "output_type": "stream",
     "text": [
      "100%|██████████| 6/6 [00:02<00:00,  2.31it/s]"
     ]
    },
    {
     "name": "stdout",
     "output_type": "stream",
     "text": [
      "{'race': 'poc', 'probability': 0.8825322091579437}\n",
      "{'race': 'unknown', 'probability': 0.3442535}\n",
      "[0.11746779, 0.8825322091579437]\n",
      "[0.3442535, 0.6557464897632599]\n",
      "Queried gender api 9 times out of 12 entries\n",
      "Queried race/ethnicity api 9 times out of 12 entries\n",
      "MM: 27.999999999999996 WM: 32.0 MW: 0.0 WW: 40.0\n",
      "WhWh: 23.78680443391204 PoCWh: 38.41653971569054 WhPoC: 4.519919740123677 PoCPoC: 33.276735855178906\n"
     ]
    },
    {
     "name": "stderr",
     "output_type": "stream",
     "text": [
      "\n"
     ]
    }
   ],
   "source": [
    "# if your bibliography is small enough for genderize.io but you still want to use genderAPI, then set no_credits_left = True\n",
    "mm, wm, mw, ww, WW, pw, wp, pp, citation_matrix, paper_df = get_pred_demos((yourFirstAuthor+' '+yourLastAuthor).replace(',',''), homedir, bib_data, \n",
    "                                                                           unused_keys, genderAPI_key, identity_threshold = 0.7, no_credits_left = False)\n"
   ]
  },
  {
   "cell_type": "code",
   "execution_count": null,
   "metadata": {},
   "outputs": [],
   "source": [
    "#statement, statementLatex = print_statements(mm, wm, mw, ww, WW, aw, wa, aa)\n",
    "# ignoring this right now"
   ]
  },
  {
   "cell_type": "code",
   "execution_count": 200,
   "metadata": {},
   "outputs": [
    {
     "data": {
      "text/html": [
       "<div>\n",
       "<style scoped>\n",
       "    .dataframe tbody tr th:only-of-type {\n",
       "        vertical-align: middle;\n",
       "    }\n",
       "\n",
       "    .dataframe tbody tr th {\n",
       "        vertical-align: top;\n",
       "    }\n",
       "\n",
       "    .dataframe thead th {\n",
       "        text-align: right;\n",
       "    }\n",
       "</style>\n",
       "<table border=\"1\" class=\"dataframe\">\n",
       "  <thead>\n",
       "    <tr style=\"text-align: right;\">\n",
       "      <th></th>\n",
       "      <th>CitationKey</th>\n",
       "      <th>Author</th>\n",
       "      <th>Gender</th>\n",
       "      <th>W</th>\n",
       "      <th>A</th>\n",
       "      <th>GendCat</th>\n",
       "      <th>FA</th>\n",
       "      <th>LA</th>\n",
       "      <th>asian</th>\n",
       "      <th>hispanic</th>\n",
       "      <th>nh_black</th>\n",
       "      <th>nh_white</th>\n",
       "      <th>race</th>\n",
       "    </tr>\n",
       "  </thead>\n",
       "  <tbody>\n",
       "    <tr>\n",
       "      <th>0</th>\n",
       "      <td>Article                                       ...</td>\n",
       "      <td>Alberto,Aleta</td>\n",
       "      <td>male,100.0</td>\n",
       "      <td>0.105219</td>\n",
       "      <td>0.894781</td>\n",
       "      <td></td>\n",
       "      <td>Alberto</td>\n",
       "      <td>Aleta</td>\n",
       "      <td>0.016844</td>\n",
       "      <td>0.697615</td>\n",
       "      <td>0.014713</td>\n",
       "      <td>0.270827</td>\n",
       "      <td>hispanic</td>\n",
       "    </tr>\n",
       "    <tr>\n",
       "      <th>1</th>\n",
       "      <td>Article                                       ...</td>\n",
       "      <td>Yamir,Moreno</td>\n",
       "      <td>male,94.0</td>\n",
       "      <td>0.066581</td>\n",
       "      <td>0.933419</td>\n",
       "      <td>malemale</td>\n",
       "      <td>Yamir</td>\n",
       "      <td>Moreno</td>\n",
       "      <td>0.203533</td>\n",
       "      <td>0.266772</td>\n",
       "      <td>0.060146</td>\n",
       "      <td>0.469549</td>\n",
       "      <td>nh_white</td>\n",
       "    </tr>\n",
       "    <tr>\n",
       "      <th>2</th>\n",
       "      <td>Article                                       ...</td>\n",
       "      <td>Nita,Bharti</td>\n",
       "      <td>female,96.0</td>\n",
       "      <td>0.13072</td>\n",
       "      <td>0.86928</td>\n",
       "      <td></td>\n",
       "      <td>Nita</td>\n",
       "      <td>Bharti</td>\n",
       "      <td>0.202481</td>\n",
       "      <td>0.325329</td>\n",
       "      <td>0.114437</td>\n",
       "      <td>0.357753</td>\n",
       "      <td>nh_white</td>\n",
       "    </tr>\n",
       "    <tr>\n",
       "      <th>3</th>\n",
       "      <td>Article                                       ...</td>\n",
       "      <td>Bryan,Grenfell</td>\n",
       "      <td>male,100.0</td>\n",
       "      <td>0.958743</td>\n",
       "      <td>0.041257</td>\n",
       "      <td>femalemale</td>\n",
       "      <td>Bryan</td>\n",
       "      <td>Grenfell</td>\n",
       "      <td>0.007106</td>\n",
       "      <td>0.034238</td>\n",
       "      <td>0.544616</td>\n",
       "      <td>0.414041</td>\n",
       "      <td>nh_black</td>\n",
       "    </tr>\n",
       "  </tbody>\n",
       "</table>\n",
       "</div>"
      ],
      "text/plain": [
       "                                         CitationKey          Author  \\\n",
       "0  Article                                       ...   Alberto,Aleta   \n",
       "1  Article                                       ...    Yamir,Moreno   \n",
       "2  Article                                       ...     Nita,Bharti   \n",
       "3  Article                                       ...  Bryan,Grenfell   \n",
       "\n",
       "        Gender         W         A     GendCat       FA        LA     asian  \\\n",
       "0   male,100.0  0.105219  0.894781              Alberto     Aleta  0.016844   \n",
       "1    male,94.0  0.066581  0.933419    malemale    Yamir    Moreno  0.203533   \n",
       "2  female,96.0   0.13072   0.86928                 Nita    Bharti  0.202481   \n",
       "3   male,100.0  0.958743  0.041257  femalemale    Bryan  Grenfell  0.007106   \n",
       "\n",
       "   hispanic  nh_black  nh_white      race  \n",
       "0  0.697615  0.014713  0.270827  hispanic  \n",
       "1  0.266772  0.060146  0.469549  nh_white  \n",
       "2  0.325329  0.114437  0.357753  nh_white  \n",
       "3  0.034238  0.544616  0.414041  nh_black  "
      ]
     },
     "execution_count": 200,
     "metadata": {},
     "output_type": "execute_result"
    }
   ],
   "source": [
    "foo = paper_df.copy()\n",
    "foo = foo.loc[0:3,]\n",
    "foo.head()\n",
    "foo[['FA', 'LA']] = foo['Author'].str.split(',', n=1, expand = True)\n",
    "foo.head()\n",
    "new_df = pred_fl_reg_name(foo, 'FA', 'LA')\n",
    "new_df.head()"
   ]
  },
  {
   "cell_type": "markdown",
   "metadata": {
    "kernel": "Python 3"
   },
   "source": [
    "## 5. Print the Diversity Statement and visualize your results\n",
    "\n",
    "The example template can be copied and pasted into your manuscript. We have included it in our methods or references section. If you are using LaTeX, [the bibliography file can be found here](https://github.com/dalejn/cleanBib/blob/master/diversityStatement/).\n",
    "\n",
    "# NEED TO UPDATE TEXT HERE FOR IDD\n",
    "\n",
    "### Additional info about the neuroscience benchmark\n",
    "For the top 5 neuroscience journals (Nature Neuroscience, Neuron, Brain, Journal of Neuroscience, and Neuroimage), the expected gender proportions in reference lists as reported by [Dworkin et al.](https://www.biorxiv.org/content/10.1101/2020.01.03.894378v1.full.pdf) are 58.4% for man/man, 9.4% for man/woman, 25.5% for woman/man, and 6.7% for woman/woman. Expected proportions were calculated by randomly sampling papers from 28,505 articles in the 5 journals, estimating gender breakdowns using probabilistic name classification tools, and regressing for relevant article variables like publication date, journal, number of authors, review article or not, and first-/last-author seniority. See [Dworkin et al.](https://www.biorxiv.org/content/10.1101/2020.01.03.894378v1.full.pdf) for more details. \n",
    "\n",
    "Using a similar random draw model regressing for relevant variables, the expected race proportions in reference lists as reported by Bertolero et al. were 51.8% for white/white, 12.8% for white/author-of-color, 23.5% for author-of-color/white, and 11.9% for author-of-color/author-of-color. \n",
    "\n",
    "This box does NOT contain code that will use your limited API credits/queries.\n",
    "\n",
    "Run the code block below. (click to select the block and then press Ctrl+Enter; or click the block and press the Run button in the top menubar)"
   ]
  },
  {
   "cell_type": "code",
   "execution_count": 15,
   "metadata": {},
   "outputs": [
    {
     "data": {
      "text/html": [
       "<div>\n",
       "<style scoped>\n",
       "    .dataframe tbody tr th:only-of-type {\n",
       "        vertical-align: middle;\n",
       "    }\n",
       "\n",
       "    .dataframe tbody tr th {\n",
       "        vertical-align: top;\n",
       "    }\n",
       "\n",
       "    .dataframe thead th {\n",
       "        text-align: right;\n",
       "    }\n",
       "</style>\n",
       "<table border=\"1\" class=\"dataframe\">\n",
       "  <thead>\n",
       "    <tr style=\"text-align: right;\">\n",
       "      <th></th>\n",
       "      <th>CitationKey</th>\n",
       "      <th>Author</th>\n",
       "      <th>Gender</th>\n",
       "      <th>W</th>\n",
       "      <th>PoC</th>\n",
       "      <th>GendCat</th>\n",
       "      <th>RaceCat</th>\n",
       "    </tr>\n",
       "  </thead>\n",
       "  <tbody>\n",
       "    <tr>\n",
       "      <th>0</th>\n",
       "      <td>Article                                       ...</td>\n",
       "      <td>Alberto,Aleta</td>\n",
       "      <td>male,100.0</td>\n",
       "      <td>0.105219</td>\n",
       "      <td>0.894781</td>\n",
       "      <td></td>\n",
       "      <td></td>\n",
       "    </tr>\n",
       "    <tr>\n",
       "      <th>1</th>\n",
       "      <td>Article                                       ...</td>\n",
       "      <td>Yamir,Moreno</td>\n",
       "      <td>male,94.0</td>\n",
       "      <td>0.066581</td>\n",
       "      <td>0.933419</td>\n",
       "      <td>malemale</td>\n",
       "      <td>pocpoc</td>\n",
       "    </tr>\n",
       "    <tr>\n",
       "      <th>2</th>\n",
       "      <td>Article                                       ...</td>\n",
       "      <td>Nita,Bharti</td>\n",
       "      <td>female,96.0</td>\n",
       "      <td>0.13072</td>\n",
       "      <td>0.86928</td>\n",
       "      <td></td>\n",
       "      <td></td>\n",
       "    </tr>\n",
       "    <tr>\n",
       "      <th>3</th>\n",
       "      <td>Article                                       ...</td>\n",
       "      <td>Bryan,Grenfell</td>\n",
       "      <td>male,100.0</td>\n",
       "      <td>0.958743</td>\n",
       "      <td>0.041257</td>\n",
       "      <td>femalemale</td>\n",
       "      <td>pocnh_white</td>\n",
       "    </tr>\n",
       "  </tbody>\n",
       "</table>\n",
       "</div>"
      ],
      "text/plain": [
       "                                         CitationKey          Author  \\\n",
       "0  Article                                       ...   Alberto,Aleta   \n",
       "1  Article                                       ...    Yamir,Moreno   \n",
       "2  Article                                       ...     Nita,Bharti   \n",
       "3  Article                                       ...  Bryan,Grenfell   \n",
       "\n",
       "        Gender         W       PoC     GendCat      RaceCat  \n",
       "0   male,100.0  0.105219  0.894781                           \n",
       "1    male,94.0  0.066581  0.933419    malemale       pocpoc  \n",
       "2  female,96.0   0.13072   0.86928                           \n",
       "3   male,100.0  0.958743  0.041257  femalemale  pocnh_white  "
      ]
     },
     "execution_count": 15,
     "metadata": {},
     "output_type": "execute_result"
    }
   ],
   "source": [
    "paper_df.head()"
   ]
  },
  {
   "cell_type": "code",
   "execution_count": 14,
   "metadata": {
    "kernel": "Python 3"
   },
   "outputs": [],
   "source": [
    "# print('Plain text template:')\n",
    "# print(statement)\n",
    "# print('\\n')\n",
    "# print('LaTeX template:')\n",
    "# print(statementLatex)\n",
    "\n",
    "paper_df.to_csv('predictions.csv')\n",
    "\n",
    "# plot_heatmaps(citation_matrix, homedir)\n",
    "\n",
    "# plot_gender_histograms()"
   ]
  },
  {
   "cell_type": "code",
   "execution_count": 16,
   "metadata": {},
   "outputs": [
    {
     "name": "stdout",
     "output_type": "stream",
     "text": [
      "   Article                FA                   LA  \\\n",
      "0        2    Aleta, Alberto        Moreno, Yamir   \n",
      "1        3    Bansal, Shweta       Meyers, Lauren   \n",
      "2        4      Bharti, Nita      Grenfell, Bryan   \n",
      "3        5      Breen, Casey       Feehan, Dennis   \n",
      "4        6  Dorelien, Audrey       Hill, Rachelle   \n",
      "5        7  Dorelien, Audrey  Kulasingam, Shalini   \n",
      "\n",
      "                                               Title SelfCite  \\\n",
      "0  Modelling the Impact of Testing Contact Tracin...        N   \n",
      "1  When Individual Behaviour Matters: Homogeneous...        Y   \n",
      "2  Explaining Seasonal Fluctuations of Measles in...        N   \n",
      "3  Novel Estimates Reveal Subnational Heterogenei...        N   \n",
      "4  Analyzing the Demographic Spatial and Temporal...        N   \n",
      "5  Quantifying Social Contact Patterns in Minneso...        N   \n",
      "\n",
      "                 CitationKey UsedXref  \n",
      "0       aleta_modelling_2020        N  \n",
      "1           bansal_when_2007        N  \n",
      "2     bharti_explaining_2011        N  \n",
      "3           breen_novel_2022        N  \n",
      "4    dorelien_analyzing_2021        N  \n",
      "5  dorelien_quantifying_2023        N  \n"
     ]
    }
   ],
   "source": [
    "authors_full_list = pd.read_csv(homedir + 'cleanedBib.csv')\n",
    "print(authors_full_list)"
   ]
  },
  {
   "cell_type": "code",
   "execution_count": 18,
   "metadata": {},
   "outputs": [
    {
     "name": "stdout",
     "output_type": "stream",
     "text": [
      "['MM' 'WM' 'UM' 'WW']\n",
      "['PP' 'PW' 'WW' 'PU']\n",
      "5\n",
      "  GendCat  0\n",
      "0      MM  1\n",
      "1      UM  1\n",
      "2      WM  1\n",
      "3      WW  2\n",
      "   GendCat  0\n",
      "0        0  0\n",
      "1        0  0\n",
      "2        0  0\n",
      "3        0  0\n",
      "4        0  0\n",
      "5        0  0\n",
      "6        0  0\n",
      "  GendCat  0\n",
      "0      MU  0\n",
      "1      WW  0\n",
      "2      UM  0\n",
      "3      MW  0\n",
      "4      WM  0\n",
      "5      UW  0\n",
      "6      MM  0\n",
      "  GendCat  count  percentage\n",
      "0      MU      0         0.0\n",
      "1      WW      2        40.0\n",
      "2      UM      1        20.0\n",
      "3      MW      0         0.0\n",
      "4      WM      1        20.0\n",
      "5      UW      0         0.0\n",
      "6      MM      1        20.0\n"
     ]
    }
   ],
   "source": [
    "names = pd.read_csv('predictions.csv')\n",
    "total_citations = names.CitationKey.nunique()\n",
    "names.GendCat = names.GendCat.str.replace('female', 'W', regex=False)\n",
    "names.GendCat = names.GendCat.str.replace('male', 'M', regex=False)\n",
    "names.GendCat = names.GendCat.str.replace('unknown', 'U', regex=False) # where are these Us from???\n",
    "names.RaceCat = names.RaceCat.str.replace('nh_white', 'W', regex=False)\n",
    "names.RaceCat = names.RaceCat.str.replace('poc', 'P', regex=False)\n",
    "names.RaceCat = names.RaceCat.str.replace('unknown', 'U', regex=False) # where are these Us from???\n",
    "gend_cats = names['GendCat'].dropna().unique()  # get a vector of all the gender categories in your paper\n",
    "race_cats = names['RaceCat'].dropna().unique()\n",
    "print(gend_cats)\n",
    "print(race_cats)\n",
    "print(total_citations)\n",
    "# Create a data frame that will be used to plot the histogram. This will have the gender category (e.g., WW, MM) in the first column and the percentage (e.g., number of WW citations divided by total number of citations * 100) in the second column #\n",
    "dat_for_plot = names.groupby('GendCat').size().reset_index()\n",
    "print(dat_for_plot)\n",
    "all_cats = ['MU', 'WW', 'UM', 'MW', 'WM', 'UW', 'MM']\n",
    "empty_dat_for_plot = pd.DataFrame(0, index=np.arange(7), columns=['GendCat', 0]) # 7 bc num unique cats\n",
    "print(empty_dat_for_plot)\n",
    "empty_dat_for_plot['GendCat'] = all_cats\n",
    "print(empty_dat_for_plot)\n",
    "set(dat_for_plot['GendCat']).intersection(empty_dat_for_plot['GendCat']) \n",
    "# get categories observed in data, so if we don't want unknowns can get rid of here # NEED TO TEST!!\n",
    "for i in set(dat_for_plot['GendCat']).intersection(empty_dat_for_plot['GendCat']):\n",
    "    empty_dat_for_plot.loc[empty_dat_for_plot['GendCat'] == i, 0] = dat_for_plot.loc[dat_for_plot['GendCat']== i, 0].values\n",
    "dat_for_plot = empty_dat_for_plot\n",
    "dat_for_plot.rename(columns={0:'count'}, inplace=True)\n",
    "dat_for_plot = dat_for_plot.assign(percentage=dat_for_plot['count']/total_citations*100)\n",
    "print(dat_for_plot)"
   ]
  },
  {
   "cell_type": "code",
   "execution_count": 26,
   "metadata": {},
   "outputs": [
    {
     "name": "stdout",
     "output_type": "stream",
     "text": [
      "  GendCat  count  percentage\n",
      "1      WW      2        40.0\n",
      "3      MW      0         0.0\n",
      "4      WM      1        20.0\n",
      "6      MM      1        20.0\n",
      "  GendCat  count  percentage  baserate  citation_rel_to_baserate  \\\n",
      "1      WW      2        40.0       7.1                      32.9   \n",
      "3      MW      0         0.0      12.7                     -12.7   \n",
      "4      WM      1        20.0      20.2                      -0.2   \n",
      "6      MM      1        20.0      60.0                     -40.0   \n",
      "\n",
      "   over_under_rate  \n",
      "1         4.633803  \n",
      "3        -1.000000  \n",
      "4        -0.009901  \n",
      "6        -0.666667  \n"
     ]
    },
    {
     "name": "stderr",
     "output_type": "stream",
     "text": [
      "/tmp/ipykernel_128/3043088535.py:12: SettingWithCopyWarning: \n",
      "A value is trying to be set on a copy of a slice from a DataFrame.\n",
      "Try using .loc[row_indexer,col_indexer] = value instead\n",
      "\n",
      "See the caveats in the documentation: https://pandas.pydata.org/pandas-docs/stable/user_guide/indexing.html#returning-a-view-versus-a-copy\n",
      "  dat_for_baserate_plot['baserate'] = baserate\n"
     ]
    }
   ],
   "source": [
    "# Create a data frame with only the WW, MW, WM, MM categories and their base rates - to plot percent citations relative to benchmarks\n",
    "dat_for_baserate_plot = dat_for_plot.loc[(dat_for_plot.GendCat == 'MM') |\n",
    "                                         (dat_for_plot.GendCat == 'WM') |\n",
    "                                         (dat_for_plot.GendCat == 'MW') |\n",
    "                                         (dat_for_plot.GendCat == 'WW'),:] \n",
    "print(dat_for_baserate_plot)\n",
    "# MM,MW,WM,WW\n",
    "# 58.4% for man/man, 9.4% for man/woman, 25.5% for woman/man, and 6.7% for woman/woman\n",
    "#baserate = [6.7, 9.4, 25.5, 58.4]\n",
    "# order looks like WW, MW, WM, MM\n",
    "baserate = [7.1, 12.7, 20.2, 60.0] # base rates for IDD from JCT\n",
    "dat_for_baserate_plot['baserate'] = baserate\n",
    "dat_for_baserate_plot = dat_for_baserate_plot.assign(citation_rel_to_baserate=\n",
    "                                                     dat_for_baserate_plot.percentage - dat_for_baserate_plot.baserate,\n",
    "                                                     over_under_rate = (dat_for_baserate_plot.percentage/dat_for_baserate_plot.baserate) - 1)\n",
    "print(dat_for_baserate_plot)\n",
    "# this is mapping the base rates wrong!!! is it always in this order?\n",
    "# TODO: this is calculating the over under rate slightly incorrectly still since i think it's not based on proportions but on number of citations out of total"
   ]
  },
  {
   "cell_type": "code",
   "execution_count": 85,
   "metadata": {},
   "outputs": [
    {
     "data": {
      "text/plain": [
       "2"
      ]
     },
     "execution_count": 85,
     "metadata": {},
     "output_type": "execute_result"
    }
   ],
   "source": [
    "max(dat_for_baserate_plot['count'])"
   ]
  },
  {
   "cell_type": "code",
   "execution_count": 77,
   "metadata": {},
   "outputs": [
    {
     "name": "stderr",
     "output_type": "stream",
     "text": [
      "/opt/conda/envs/anaconda-panel-2023.05-py310/lib/python3.11/site-packages/matplotlib/axes/_axes.py:1103: RuntimeWarning: All-NaN axis encountered\n",
      "  minx = np.nanmin(masked_verts[..., 0])\n",
      "/opt/conda/envs/anaconda-panel-2023.05-py310/lib/python3.11/site-packages/matplotlib/axes/_axes.py:1104: RuntimeWarning: All-NaN axis encountered\n",
      "  maxx = np.nanmax(masked_verts[..., 0])\n"
     ]
    },
    {
     "data": {
      "image/png": "[encoded data removed]",
      "text/plain": [
       "<Figure size 640x480 with 1 Axes>"
      ]
     },
     "metadata": {},
     "output_type": "display_data"
    },
    {
     "data": {
      "image/png": "[encoded data removed]",
      "text/plain": [
       "<Figure size 640x480 with 1 Axes>"
      ]
     },
     "metadata": {},
     "output_type": "display_data"
    }
   ],
   "source": [
    "from matplotlib import ticker\n",
    "for i in range(max(dat_for_baserate_plot['count']) + 1, 1):\n",
    "    print(i)\n",
    "# plot, sns is seaborn!\n",
    "plt.figure()\n",
    "ax = sns.barplot(data=dat_for_baserate_plot, x='GendCat', y='count', order=['MM','WM','MW','WW'], hue='GendCat', dodge = False)\n",
    "plt.xlabel('Predicted gender category')\n",
    "plt.ylabel('Number of papers')\n",
    "#plt.yaxis.set_major_locator(ticker.MultipleLocator(2)) # left off here, trying to set y axis to integer breaks\n",
    "ax.set_yticks(range(0, max(dat_for_baserate_plot['count']) + 1, 2))\n",
    "ax.set_yticklabels(range(0, max(dat_for_baserate_plot['count']) + 1, 2))\n",
    "plt.tight_layout()\n",
    "\n",
    "plt.figure()\n",
    "ax = sns.barplot(data=dat_for_baserate_plot, x='GendCat', y='citation_rel_to_baserate', order=['MM','WM','MW','WW'], hue='GendCat', dodge = False)\n",
    "ax.hlines(y = 0, xmin = None, xmax = None, color = \"black\")\n",
    "plt.xlabel('Predicted gender category')\n",
    "plt.ylabel('% of citations relative to benchmarks')\n",
    "plt.tight_layout()"
   ]
  },
  {
   "cell_type": "code",
   "execution_count": null,
   "metadata": {},
   "outputs": [],
   "source": [
    "\n",
    "\n",
    "\n",
    "### TODO: repeat this for race/ethnicity!! nOT FIXED YET!!\n",
    "# Create a data frame that will be used to plot the histogram. This will have the race category (e.g., WP, PP) in the first column and the percentage (e.g., number of WW citations divided by total number of citations * 100) in the second column #\n",
    "dat_for_plot = names.groupby('RaceCat').size().reset_index()\n",
    "all_cats = ['WU', 'PP', 'UW', 'WP', 'PW', 'UP', 'WW'] # could we not have UU?\n",
    "empty_dat_for_plot = pd.DataFrame(0, index=np.arange(7), columns=['RaceCat', 0])\n",
    "empty_dat_for_plot['RaceCat'] = all_cats\n",
    "set(dat_for_plot['RaceCat']).intersection(empty_dat_for_plot['RaceCat'])\n",
    "for i in set(dat_for_plot['RaceCat']).intersection(empty_dat_for_plot['RaceCat']):\n",
    "    empty_dat_for_plot.loc[empty_dat_for_plot['RaceCat'] == i, 0] = dat_for_plot.loc[dat_for_plot['RaceCat']== i, 0].values\n",
    "dat_for_plot = empty_dat_for_plot\n",
    "dat_for_plot.rename(columns={0:'count'}, inplace=True)\n",
    "dat_for_plot = dat_for_plot.assign(percentage=dat_for_plot['count']/total_citations*100)\n",
    "\n",
    "# Create a data frame with only the WW, MW, WM, MM categories and their base rates - to plot percent citations relative to benchmarks\n",
    "dat_for_baserate_plot = dat_for_plot.loc[(dat_for_plot.RaceCat == 'WW') |\n",
    "                                         (dat_for_plot.RaceCat == 'PW') |\n",
    "                                         (dat_for_plot.RaceCat == 'WP') |\n",
    "                                         (dat_for_plot.RaceCat == 'PP'),:]\n",
    "# except our rates for PoC are either author or both are POC, so how can we modify this?\n",
    "# MM,MW,WM,WW\n",
    "# 58.4% for man/man, 9.4% for man/woman, 25.5% for woman/man, and 6.7% for woman/woman\n",
    "#baserate = [6.7, 9.4, 25.5, 58.4]\n",
    "baserate = [0.74, 0.26] # base rates for IDD from JCT\n",
    "dat_for_baserate_plot['baserate'] = baserate\n",
    "dat_for_baserate_plot = dat_for_baserate_plot.assign(citation_rel_to_baserate=\n",
    "                                                     dat_for_baserate_plot.percentage - dat_for_baserate_plot.baserate\n",
    "                                                     )\n",
    "\n",
    "# plot\n",
    "plt.figure()\n",
    "sns.barplot(data=dat_for_plot, x='GendCat', y='count', order=np.flip(gend_cats), hue='GendCat')\n",
    "plt.xlabel('Predicted gender category')\n",
    "plt.ylabel('Number of papers')\n",
    "plt.tight_layout()\n",
    "\n",
    "plt.figure()\n",
    "sns.barplot(data=dat_for_baserate_plot, x='GendCat', y='citation_rel_to_baserate', order=['MM','WM','MW','WW'], hue='GendCat')\n",
    "plt.xlabel('Predicted gender category')\n",
    "plt.ylabel('% of citations relative to benchmarks')\n",
    "plt.tight_layout()\n",
    "\n"
   ]
  }
 ],
 "metadata": {
  "kernelspec": {
   "display_name": "anaconda-panel-2023.05-py310",
   "language": "python",
   "name": "conda-env-anaconda-panel-2023.05-py310-py"
  },
  "language_info": {
   "codemirror_mode": {
    "name": "ipython",
    "version": 3
   },
   "file_extension": ".py",
   "mimetype": "text/x-python",
   "name": "python",
   "nbconvert_exporter": "python",
   "pygments_lexer": "ipython3",
   "version": "3.11.5"
  },
  "sos": {
   "kernels": [
    [
     "Python 3",
     "python3",
     "python3",
     "",
     {
      "name": "ipython",
      "version": 3
     }
    ],
    [
     "R",
     "ir",
     "R",
     "",
     "r"
    ]
   ],
   "panel": {
    "displayed": true,
    "height": 0
   },
   "version": "0.20.1"
  },
  "vscode": {
   "interpreter": {
    "hash": "66f30d3a05dff018f3baf45891c3cf21b32f9380ea78dc5d1d8b601d704d86ef"
   }
  }
 },
 "nbformat": 4,
 "nbformat_minor": 4
}
