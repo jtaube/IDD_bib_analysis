{
 "cells": [
  {
   "cell_type": "markdown",
   "metadata": {
    "kernel": "SoS"
   },
   "source": [
    "# Clean Bibliography\n",
    "\n",
    "To goal of this notebook is to clean your `.bib` file to ensure that it only contains the full first names of references that you have cited in your paper. The full first names will then be used to query the probabilistic gender classifier, [Gender API](https://gender-api.com) if over 100 names or [genderize.io](https://genderize.io) if under 100 names. The full names will be used to query for probabilistic race using the [ethnicolr package](https://ethnicolr.readthedocs.io/).\n",
    "\n",
    "The only required file you need is your manuscript's bibliography in `.bib` format. __Your `.bib` must only contain references cited in the manuscript__. Otherwise, the estimated proportions will be inaccurate.\n",
    "\n",
    "If you intend to analyze the reference list of a published paper instead of your own manuscript in progress, search the paper on [Web of Knowledge](http://apps.webofknowledge.com/) (you will need institutional access). Next, [download the .bib file from Web of Science following these instructions, but start from Step 4 and on Step 6 select BibTeX instead of Plain Text](https://github.com/jdwor/gendercitation/blob/master/Step0_PullingWOSdata.pdf).\n",
    "\n",
    "If you are not using LaTeX, collect and organize only the references you have cited in your manuscript using your reference manager of choice (e.g. Mendeley, Zotero, EndNote, ReadCube, etc.) and export that selected bibliography as a `.bib` file. __Please try to export your .bib in an output style that uses full first names (rather than only first initials) and using the full author lists (rather than abbreviated author lists with \"et al.\").__ If first initials are included, our code will automatically retrieve about 70% of those names using the article title or DOI. \n",
    "\n",
    "   * [Export `.bib` from Mendeley](https://blog.mendeley.com/2011/10/25/howto-use-mendeley-to-create-citations-using-latex-and-bibtex/)\n",
    "   * [Export `.bib` from Zotero](https://libguides.mit.edu/ld.php?content_id=34248570)\n",
    "   * [Export `.bib` from EndNote](https://www.reed.edu/cis/help/LaTeX/EndNote.html). Note: Please export full first names by either [choosing an output style that does so by default (e.g. in MLA style)](https://canterbury.libguides.com/endnote/basics-output) or by [customizing an output style.](http://bibliotek.usn.no/cite-and-write/endnote/how-to-use/how-to-show-the-author-s-full-name-in-the-reference-list-article185897-28181.html)\n",
    "   * [Export `.bib` from Read Cube Papers](https://support.papersapp.com/support/solutions/articles/30000024634-how-can-i-export-references-from-readcube-papers-)\n",
    "\n",
    "For those working in LaTeX, we can use an optional `.aux` file to automatically filter your `.bib` to check that it only contains entries which are cited in your manuscript.\n",
    "\n",
    "| Input                 | Output                                                                                                                        |\n",
    "|-----------------------|-------------------------------------------------------------------------------------------------------------------------------|\n",
    "| `.bib` file(s)**(REQUIRED)**    | `cleanBib.csv`: table of author first names, titles, and .bib keys                                                            |\n",
    "| `.aux` file (OPTIONAL)| `predictions.csv`: table of author first names, estimated gender classification, and confidence                                   |\n",
    "| | `gender_results.pdf`: bar plots of your citations broken down by probabilistic gender estimations\n",
    "| | `race_results.pdf`: bar plots of your citations broken down by probabilistic race estimations\n",
    "\n",
    "## 1. Import functions\n",
    "\n",
    "Upload your `.bib` file(s) and _optionally_ an `.aux` file generated from compiling your LaTeX manuscript and your `.tex` file\n",
    "\n",
    "![upload button](img/upload.png)\n",
    "\n",
    "![confirm upload button](img/confirmUpload.png)\n",
    "\n",
    "Then, run the code block below. (click to select the block and then press Ctrl+Enter; or click the block and press the Run button in the top menubar)"
   ]
  },
  {
   "cell_type": "code",
   "execution_count": null,
   "metadata": {
    "kernel": "Python 3",
    "scrolled": true
   },
   "outputs": [],
   "source": [
    "import glob\n",
    "from habanero import Crossref\n",
    "import sys\n",
    "import os\n",
    "from pathlib import Path\n",
    "wd = Path(os.getcwd())\n",
    "from preprocessing import *\n",
    "from ethnicolr import pred_fl_reg_name\n",
    "os.environ[\"TF_CPP_MIN_LOG_LEVEL\"] = \"3\"\n",
    "import tensorflow as tf\n",
    "import seaborn as sns\n",
    "import matplotlib.pyplot as plt\n",
    "import warnings\n",
    "warnings.filterwarnings('ignore', category=np.VisibleDeprecationWarning)\n",
    "warnings.simplefilter(action='ignore', category=FutureWarning)\n",
    "\n",
    "cr = Crossref()\n",
    "homedir = '' \n",
    "bib_files = glob.glob(homedir + '*.bib')\n",
    "paper_aux_file = glob.glob(homedir + '*.aux')\n",
    "paper_bib_file = 'library_paper.bib'\n",
    "try:\n",
    "    tex_file = glob.glob(homedir + \"*.tex\")[0]\n",
    "except:\n",
    "    print('No optional .tex file found.')\n",
    "if len(bib_files) == 0:\n",
    "    print(\"No .bib file found.\")\n",
    "\n",
    "# print(bib_files)\n",
    "# print(paper_aux_file)\n",
    "# including more than 1 aux file will cause problems"
   ]
  },
  {
   "cell_type": "markdown",
   "metadata": {
    "kernel": "SoS"
   },
   "source": [
    "### 2a. Define the _first_ and _last_ author of your paper.\n",
    "\n",
    "For example: \n",
    "```\n",
    "yourFirstAuthor = 'Teich, Erin G.'\n",
    "yourLastAuthor = 'Bassett, Danielle S.'\n",
    "```\n",
    "\n",
    "And optionally, define any co-first or co-last author(s), making sure to keep the square brackets to define a list. You do not need to specify whether they are co-first or co-last; this is just to help remove self-citations.\n",
    "\n",
    "For example:\n",
    "```\n",
    "optionalEqualContributors = ['Dworkin, Jordan', 'Stiso, Jennifer']\n",
    "```\n",
    "\n",
    "or \n",
    "\n",
    "```\n",
    "optionalEqualContributors = ['Dworkin, Jordan']\n",
    "```\n",
    "\n",
    "If you are analyzing published papers' reference lists from Web of Science, change the variable checkingPublishedArticle to True:\n",
    "```\n",
    "checkingPublishedArticle = True\n",
    "```\n",
    "\n",
    "Then, run the code block below. (click to select the block and then press Ctrl+Enter; or click the block and press the Run button in the top menubar)"
   ]
  },
  {
   "cell_type": "code",
   "execution_count": null,
   "metadata": {},
   "outputs": [],
   "source": [
    "yourFirstAuthor = 'LastName, FirstName OptionalMiddleInitial'\n",
    "yourLastAuthor = 'LastName, FirstName OptionalMiddleInitial'\n",
    "optionalEqualContributors = ['LastName, FirstName OptionalMiddleInitial', 'LastName, FirstName OptionalMiddleInitial']\n",
    "checkingPublishedArticle = False\n",
    "\n",
    "if paper_aux_file:\n",
    "    unused_keys = [find_unused_cites([file]) for file in paper_aux_file]\n",
    "    unused_keys = [item for sublist in unused_keys for item in sublist]\n",
    "else:\n",
    "    unused_keys = None"
   ]
  },
  {
   "cell_type": "markdown",
   "metadata": {},
   "source": [
    "### 2b. Clean your bibliography file\n",
    "\n",
    "__NOTE__: Please edit your .bib file using information printed by the code and provided in cleanedBib.csv. Edit directly within the Binder environment by clicking the .bib file (as shown below), making modifications, and saving the file (as shown below).\n",
    "\n",
    "![open button](img/openBib.png)\n",
    "\n",
    "![save button](img/saveBib.png)\n",
    "\n",
    "Common issues include:\n",
    "\n",
    "* Bibliography entry did not include a last author because the author list was truncated by \"and Others\" or \"et al.\"\n",
    "* Some older journals articles only provide first initial and not full first names, in which case you will need to go digging via Google to identify that person.\n",
    "* In rare cases where the author cannot be identified even after searching by hand, replace the first name with \"UNKNOWNNAMES\" so that the classifier will estimate the gender as unknown.\n",
    "* Make sure groups aren't used as first or last authors\n",
    "\n",
    "The unused references mentioned above from your .bib file have been removed for the remainder of the code"
   ]
  },
  {
   "cell_type": "code",
   "execution_count": null,
   "metadata": {
    "kernel": "Python 3"
   },
   "outputs": [],
   "source": [
    "bib_data = get_bib_data(bib_files[0])\n",
    "if checkingPublishedArticle:\n",
    "    get_names_published(homedir, bib_data, cr)\n",
    "else:\n",
    "    # find and print duplicates\n",
    "    bib_data = get_duplicates(bib_data, bib_files[0])\n",
    "    # get names, remove CDS, find self cites\n",
    "    group_authors = get_names(homedir, bib_data, yourFirstAuthor, yourLastAuthor, optionalEqualContributors, cr, unused_keys)\n",
    "    \n",
    "bib_check(homedir, group_authors)"
   ]
  },
  {
   "cell_type": "markdown",
   "metadata": {},
   "source": [
    "## 3. Estimate gender and race of authors from cleaned bibliography\n",
    "\n",
    "__Checkpoint for cleaned bibliography and estimating genders and race by names__\n",
    "\n",
    "After registering for a [gender-api](https://gender-api.com/) account (free), use your 500 free monthly search credits by __pasting your API key in the code for the line indicated below__ (replace only YOUR ACCOUNT KEY HERE):\n",
    "\n",
    "```genderAPI_key = '&key=YOUR ACCOUNT KEY HERE'```\n",
    "\n",
    "[You can find your key in your account's profile page.](https://gender-api.com/en/account/overview#my-api-key)\n",
    "\n",
    "Then, run the code blocks below to estimate how many credits we will need to use. (click to select the block and then press Ctrl+Enter; or click the block and press the Run button in the top menubar) __Run this even if your bibliography is small enough to use genderize.io.__"
   ]
  },
  {
   "cell_type": "code",
   "execution_count": null,
   "metadata": {
    "kernel": "R"
   },
   "outputs": [],
   "source": [
    "# moot because we are using different gender prediction software\n",
    "genderAPI_key = '&key=YOUR ACCOUNT KEY HERE'\n",
    "\n",
    "# # Check your credit balance\n",
    "check_genderAPI_balance(genderAPI_key, homedir)"
   ]
  },
  {
   "cell_type": "markdown",
   "metadata": {
    "kernel": "SoS"
   },
   "source": [
    "## 4. Describe the proportions of genders and races in your reference list and compare it to published base rates in infectious disease dynamics.\n",
    "\n",
    "__NOTE__: your free GenderAPI account has 500 queries per month and genderize.io has 100 free queries per day. This box contains the code that will use your limited API credits/queries if it runs without error. Re-running all code repeatedly will repeatedly use these credits.\n",
    "\n",
    "Run the code blocks below. (click to select the block and then press Ctrl+Enter; or click the block and press the Run button in the top menubar)"
   ]
  },
  {
   "cell_type": "code",
   "execution_count": null,
   "metadata": {
    "kernel": "Python 3"
   },
   "outputs": [],
   "source": [
    "# if your bibliography is small enough for genderize.io but you still want to use genderAPI, then set no_credits_left to True\n",
    "mm, wm, mw, ww, WW, pw, wp, pp, citation_matrix, paper_df = get_pred_demos((yourFirstAuthor+' '+yourLastAuthor).replace(',',''), \n",
    "                                                                           homedir, bib_data, \n",
    "                                                                           genderAPI_key, unused_keys, identity_threshold = 0.7, \n",
    "                                                                           no_credits_left = False)\n"
   ]
  },
  {
   "cell_type": "markdown",
   "metadata": {
    "kernel": "Python 3"
   },
   "source": [
    "## 5. Visualize your results\n",
    "\n",
    "### Additional info about the IDD benchmark\n",
    "\n",
    "We calculated the benchmark values for infectious disease dynamics by analyzing authorship patterns from 2000 to 2019. More information can be found in [insert publication doi].\n",
    "\n",
    "This box does NOT contain code that will use your limited API credits/queries.\n",
    "\n",
    "Run the code block below. (click to select the block and then press Ctrl+Enter; or click the block and press the Run button in the top menubar)"
   ]
  },
  {
   "cell_type": "code",
   "execution_count": null,
   "metadata": {
    "kernel": "Python 3"
   },
   "outputs": [],
   "source": [
    "paper_df.to_csv('predictions.csv')\n",
    "\n",
    "plot_gender_histograms()\n",
    "plot_race_histograms()"
   ]
  },
  {
   "cell_type": "code",
   "execution_count": null,
   "metadata": {},
   "outputs": [],
   "source": []
  }
 ],
 "metadata": {
  "kernelspec": {
   "display_name": "Python [conda env:base] *",
   "language": "python",
   "name": "conda-base-py"
  },
  "language_info": {
   "codemirror_mode": {
    "name": "ipython",
    "version": 3
   },
   "file_extension": ".py",
   "mimetype": "text/x-python",
   "name": "python",
   "nbconvert_exporter": "python",
   "pygments_lexer": "ipython3",
   "version": "3.8.19"
  },
  "sos": {
   "kernels": [
    [
     "Python 3",
     "python3",
     "python3",
     "",
     {
      "name": "ipython",
      "version": 3
     }
    ],
    [
     "R",
     "ir",
     "R",
     "",
     "r"
    ]
   ],
   "panel": {
    "displayed": true,
    "height": 0
   },
   "version": "0.20.1"
  },
  "vscode": {
   "interpreter": {
    "hash": "66f30d3a05dff018f3baf45891c3cf21b32f9380ea78dc5d1d8b601d704d86ef"
   }
  }
 },
 "nbformat": 4,
 "nbformat_minor": 4
}
